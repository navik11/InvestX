{
 "cells": [
  {
   "attachments": {},
   "cell_type": "markdown",
   "id": "ccbde9f0",
   "metadata": {},
   "source": [
    "Importing important libraries"
   ]
  },
  {
   "cell_type": "code",
   "execution_count": 35,
   "id": "3435a5e6",
   "metadata": {},
   "outputs": [],
   "source": [
    "import time\n",
    "from selenium import webdriver\n",
    "from selenium.webdriver.common.by import By\n",
    "from bs4 import BeautifulSoup\n",
    "import pandas as pd\n",
    "from openpyxl import Workbook"
   ]
  },
  {
   "cell_type": "code",
   "execution_count": 36,
   "id": "3a1b8a1f",
   "metadata": {},
   "outputs": [],
   "source": [
    "driver = webdriver.Chrome()\n",
    "url = \"https://sso.definedge.com/auth/realms/definedge/protocol/openid-connect/auth?response_type=code&client_id=opstra&redirect_uri=https://opstra.definedge.com/ssologin&state=e2cf559f-356c-425a-87e3-032097f643d0&login=true&scope=openid\"\n",
    "\n",
    "driver.get(url)"
   ]
  },
  {
   "cell_type": "code",
   "execution_count": 37,
   "id": "75b6d9b8",
   "metadata": {},
   "outputs": [],
   "source": [
    "username = driver.find_element(By.ID, \"username\")\n",
    "password = driver.find_element(By.ID, \"password\")\n",
    "username.send_keys(\"navik09.me@gmail.com\")\n",
    "password.send_keys(\"j5mn66s7@OPSTRA\")\n",
    "\n",
    "loginBtn = driver.find_element(By.ID, \"kc-login\")\n",
    "loginBtn.click()\n",
    "\n",
    "driver.get('https://opstra.definedge.com/strategy-builder')\n",
    "time.sleep(.5)\n",
    "expander = driver.find_element(By.CLASS_NAME, 'v-expansion-panel__header__icon')\n",
    "expander.click()\n",
    "time.sleep(.5)"
   ]
  },
  {
   "cell_type": "code",
   "execution_count": 38,
   "id": "c0b37da3",
   "metadata": {},
   "outputs": [],
   "source": [
    "dfs = []\n",
    "names = []"
   ]
  },
  {
   "cell_type": "code",
   "execution_count": 39,
   "id": "18447e0a",
   "metadata": {},
   "outputs": [],
   "source": [
    "def fetchdata(date_):\n",
    "    time.sleep(2)\n",
    "    html_code = driver.page_source\n",
    "    # print(html_code.encode('ascii', 'ignore').decode('ascii'))\n",
    "    soup = BeautifulSoup(html_code, 'html.parser')\n",
    "    table = soup.find('table', class_=\"v-datatable\")\n",
    "\n",
    "    df = pd.read_html(str(table))[0]\n",
    "    dfs.append(df)\n",
    "    names.append(date_)\n",
    "    # df.to_csv(date_+\".csv\", index=False)"
   ]
  },
  {
   "cell_type": "code",
   "execution_count": 40,
   "id": "250f0145",
   "metadata": {},
   "outputs": [
    {
     "name": "stderr",
     "output_type": "stream",
     "text": [
      "Exception ignored in: <function ZipFile.__del__ at 0x000001DC9DC60CC0>\n",
      "Traceback (most recent call last):\n",
      "  File \"c:\\Python311\\Lib\\zipfile.py\", line 1874, in __del__\n",
      "    self.close()\n",
      "  File \"c:\\Python311\\Lib\\zipfile.py\", line 1891, in close\n",
      "    self.fp.seek(self.start_dir)\n",
      "ValueError: seek of closed file\n",
      "Exception ignored in: <function ZipFile.__del__ at 0x000001DC9DC60CC0>\n",
      "Traceback (most recent call last):\n",
      "  File \"c:\\Python311\\Lib\\zipfile.py\", line 1874, in __del__\n",
      "    self.close()\n",
      "  File \"c:\\Python311\\Lib\\zipfile.py\", line 1891, in close\n",
      "    self.fp.seek(self.start_dir)\n",
      "ValueError: seek of closed file\n",
      "Exception ignored in: <function ZipFile.__del__ at 0x000001DC9DC60CC0>\n",
      "Traceback (most recent call last):\n",
      "  File \"c:\\Python311\\Lib\\zipfile.py\", line 1874, in __del__\n",
      "    self.close()\n",
      "  File \"c:\\Python311\\Lib\\zipfile.py\", line 1891, in close\n",
      "    self.fp.seek(self.start_dir)\n",
      "ValueError: seek of closed file\n",
      "Exception ignored in: <function ZipFile.__del__ at 0x000001DC9DC60CC0>\n",
      "Traceback (most recent call last):\n",
      "  File \"c:\\Python311\\Lib\\zipfile.py\", line 1874, in __del__\n",
      "    self.close()\n",
      "  File \"c:\\Python311\\Lib\\zipfile.py\", line 1891, in close\n",
      "    self.fp.seek(self.start_dir)\n",
      "ValueError: seek of closed file\n",
      "Exception ignored in: <function ZipFile.__del__ at 0x000001DC9DC60CC0>\n",
      "Traceback (most recent call last):\n",
      "  File \"c:\\Python311\\Lib\\zipfile.py\", line 1874, in __del__\n",
      "    self.close()\n",
      "  File \"c:\\Python311\\Lib\\zipfile.py\", line 1891, in close\n",
      "    self.fp.seek(self.start_dir)\n",
      "ValueError: seek of closed file\n"
     ]
    }
   ],
   "source": [
    "dates = driver.find_elements(By.CSS_SELECTOR, '.flex.xs4.sm2.md1')\n",
    "lens = len(dates)\n",
    "for i in range(0, lens):\n",
    "    dates = driver.find_elements(By.CSS_SELECTOR, '.flex.xs4.sm2.md1')\n",
    "    dates[i].click()\n",
    "    fetchdata(f'{i}_{dates[i].text}')\n"
   ]
  },
  {
   "cell_type": "code",
   "execution_count": 41,
   "id": "e3194247",
   "metadata": {},
   "outputs": [
    {
     "name": "stdout",
     "output_type": "stream",
     "text": [
      "10\n",
      "['0_27JUL2023', '1_03AUG2023', '2_10AUG2023', '3_17AUG2023', '4_31AUG2023', '5_28SEP2023', '6_28DEC2023', '7_28MAR2024', '8_27JUN2024', '9_26DEC2024']\n"
     ]
    }
   ],
   "source": [
    "print(len(dfs))\n",
    "print(names)"
   ]
  },
  {
   "cell_type": "code",
   "execution_count": 42,
   "id": "cc601df6",
   "metadata": {},
   "outputs": [],
   "source": [
    "with pd.ExcelWriter(\"output.xlsx\") as writer:\n",
    "    i = 0\n",
    "    for df in dfs:\n",
    "        df.to_excel(writer, sheet_name=names[i], index=False)\n",
    "        i = i+1"
   ]
  }
 ],
 "metadata": {
  "kernelspec": {
   "display_name": "Python 3 (ipykernel)",
   "language": "python",
   "name": "python3"
  },
  "language_info": {
   "codemirror_mode": {
    "name": "ipython",
    "version": 3
   },
   "file_extension": ".py",
   "mimetype": "text/x-python",
   "name": "python",
   "nbconvert_exporter": "python",
   "pygments_lexer": "ipython3",
   "version": "3.11.4"
  }
 },
 "nbformat": 4,
 "nbformat_minor": 5
}
